{
 "cells": [
  {
   "cell_type": "markdown",
   "metadata": {},
   "source": [
    "### Polypharmacy side effects prediction"
   ]
  },
  {
   "cell_type": "code",
   "execution_count": 1,
   "metadata": {},
   "outputs": [],
   "source": [
    "from side_effects.utility.utils import get_expt_results"
   ]
  },
  {
   "cell_type": "code",
   "execution_count": 2,
   "metadata": {},
   "outputs": [],
   "source": [
    "res = get_expt_results(\"/media/rogia/ROGIA/exps_results/polypharmacy\")"
   ]
  },
  {
   "cell_type": "code",
   "execution_count": 3,
   "metadata": {},
   "outputs": [
    {
     "data": {
      "text/html": [
       "<div>\n",
       "<style scoped>\n",
       "    .dataframe tbody tr th:only-of-type {\n",
       "        vertical-align: middle;\n",
       "    }\n",
       "\n",
       "    .dataframe tbody tr th {\n",
       "        vertical-align: top;\n",
       "    }\n",
       "\n",
       "    .dataframe thead th {\n",
       "        text-align: right;\n",
       "    }\n",
       "</style>\n",
       "<table border=\"1\" class=\"dataframe\">\n",
       "  <thead>\n",
       "    <tr style=\"text-align: right;\">\n",
       "      <th></th>\n",
       "      <th>dataset_params.dataset_name</th>\n",
       "      <th>dataset_params.split_mode</th>\n",
       "      <th>macro_roc</th>\n",
       "      <th>macro_auprc</th>\n",
       "      <th>micro_roc</th>\n",
       "      <th>micro_auprc</th>\n",
       "    </tr>\n",
       "  </thead>\n",
       "  <tbody>\n",
       "    <tr>\n",
       "      <th>0</th>\n",
       "      <td>drugbank</td>\n",
       "      <td>leave_drugs_out</td>\n",
       "      <td>0.646593</td>\n",
       "      <td>0.497518</td>\n",
       "      <td>0.973655</td>\n",
       "      <td>0.536525</td>\n",
       "    </tr>\n",
       "    <tr>\n",
       "      <th>1</th>\n",
       "      <td>drugbank</td>\n",
       "      <td>random</td>\n",
       "      <td>0.680102</td>\n",
       "      <td>0.626862</td>\n",
       "      <td>0.996405</td>\n",
       "      <td>0.857146</td>\n",
       "    </tr>\n",
       "    <tr>\n",
       "      <th>2</th>\n",
       "      <td>twosides</td>\n",
       "      <td>random</td>\n",
       "      <td>0.815192</td>\n",
       "      <td>0.315365</td>\n",
       "      <td>0.870132</td>\n",
       "      <td>0.385896</td>\n",
       "    </tr>\n",
       "  </tbody>\n",
       "</table>\n",
       "</div>"
      ],
      "text/plain": [
       "  dataset_params.dataset_name dataset_params.split_mode  macro_roc  \\\n",
       "0                    drugbank           leave_drugs_out   0.646593   \n",
       "1                    drugbank                    random   0.680102   \n",
       "2                    twosides                    random   0.815192   \n",
       "\n",
       "   macro_auprc  micro_roc  micro_auprc  \n",
       "0     0.497518   0.973655     0.536525  \n",
       "1     0.626862   0.996405     0.857146  \n",
       "2     0.315365   0.870132     0.385896  "
      ]
     },
     "execution_count": 3,
     "metadata": {},
     "output_type": "execute_result"
    }
   ],
   "source": [
    "t = res.groupby(['dataset_params.dataset_name', 'dataset_params.split_mode'], as_index=False)[[\"macro_roc\", \"macro_auprc\", \"micro_roc\", \"micro_auprc\"]].mean()\n",
    "t"
   ]
  },
  {
   "cell_type": "code",
   "execution_count": null,
   "metadata": {},
   "outputs": [],
   "source": []
  }
 ],
 "metadata": {
  "kernelspec": {
   "display_name": "Python 3",
   "language": "python",
   "name": "python3"
  },
  "language_info": {
   "codemirror_mode": {
    "name": "ipython",
    "version": 3
   },
   "file_extension": ".py",
   "mimetype": "text/x-python",
   "name": "python",
   "nbconvert_exporter": "python",
   "pygments_lexer": "ipython3",
   "version": "3.7.4"
  }
 },
 "nbformat": 4,
 "nbformat_minor": 2
}
