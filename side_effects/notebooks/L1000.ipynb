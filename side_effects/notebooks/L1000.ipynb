{
 "cells": [
  {
   "cell_type": "code",
   "execution_count": 1,
   "metadata": {
    "pycharm": {
     "is_executing": false
    }
   },
   "outputs": [],
   "source": [
    "import pandas as pd"
   ]
  },
  {
   "cell_type": "code",
   "execution_count": 27,
   "outputs": [
    {
     "data": {
      "text/plain": "                 pert_iname pert_type  is_touchstone inchi_key_prefix  \\\npert_id                                                                 \nBRD-A00100033    nifurtimox    trt_cp              1   ARFHIAQFJWUCFH   \nBRD-A00267231        hemado    trt_cp              1   KOCIMZNSNPOGOP   \nBRD-A00520476     AF-DX-116    trt_cp              1   UBRKDAVQCKZSPO   \nBRD-A00758722  noretynodrel    trt_cp              1   ICTXHFFSOAJUMG   \nBRD-A00993607    alprenolol    trt_cp              1   PAZJSJFMUHDSTF   \n...                     ...       ...            ...              ...   \nBRD-U82589721   HG-5-113-01    trt_cp              1       restricted   \nBRD-U86922168     QL-XII-47    trt_cp              1       restricted   \nBRD-U88459701  atorvastatin    trt_cp              1   XUKUURHRXDUEBC   \nBRD-U94846492       quinine    trt_cp              1   LOUPRKONTZGTKE   \nBRD-U97083655   teicoplanin    trt_cp              1       restricted   \n\n                                 inchi_key  \\\npert_id                                      \nBRD-A00100033  ARFHIAQFJWUCFH-UHFFFAOYSA-N   \nBRD-A00267231  KOCIMZNSNPOGOP-UHFFFAOYSA-N   \nBRD-A00520476  UBRKDAVQCKZSPO-UHFFFAOYSA-N   \nBRD-A00758722  ICTXHFFSOAJUMG-OQPPHWFISA-N   \nBRD-A00993607  PAZJSJFMUHDSTF-UHFFFAOYSA-N   \n...                                    ...   \nBRD-U82589721                   restricted   \nBRD-U86922168                   restricted   \nBRD-U88459701  XUKUURHRXDUEBC-UHFFFAOYSA-N   \nBRD-U94846492  LOUPRKONTZGTKE-AFHBHXEDSA-N   \nBRD-U97083655                   restricted   \n\n                                                canonical_smiles pubchem_cid  \npert_id                                                                       \nBRD-A00100033          CC1CS(=O)(=O)CCN1N=Cc1ccc(o1)[N+]([O-])=O     6842999  \nBRD-A00267231          CCCCC#Cc1nc(NC)c2ncn(C3OC(CO)C(O)C3O)c2n1     4043357  \nBRD-A00520476    CCN(CC)CC1CCCCN1CC(=O)N1c2ccccc2C(=O)Nc2cccnc12      107867  \nBRD-A00758722     C[C@]12CCC3C(CCC4=C3CCC(=O)C4)C1CC[C@@]2(O)C#C     5702095  \nBRD-A00993607                          CC(C)NCC(O)COc1ccccc1CC=C        -666  \n...                                                          ...         ...  \nBRD-U82589721                                         restricted        -666  \nBRD-U86922168                                         restricted        -666  \nBRD-U88459701  CC(C)c1c(C(=O)Nc2ccccc2)c(c(-c2ccc(F)cc2)n1CCC...        -666  \nBRD-U94846492  COc1ccc2nccc([C@@H](O)[C@H]3C[C@@H]4CC[N@]3C[C...        -666  \nBRD-U97083655                                         restricted        -666  \n\n[2429 rows x 7 columns]",
      "text/html": "<div>\n<style scoped>\n    .dataframe tbody tr th:only-of-type {\n        vertical-align: middle;\n    }\n\n    .dataframe tbody tr th {\n        vertical-align: top;\n    }\n\n    .dataframe thead th {\n        text-align: right;\n    }\n</style>\n<table border=\"1\" class=\"dataframe\">\n  <thead>\n    <tr style=\"text-align: right;\">\n      <th></th>\n      <th>pert_iname</th>\n      <th>pert_type</th>\n      <th>is_touchstone</th>\n      <th>inchi_key_prefix</th>\n      <th>inchi_key</th>\n      <th>canonical_smiles</th>\n      <th>pubchem_cid</th>\n    </tr>\n    <tr>\n      <th>pert_id</th>\n      <th></th>\n      <th></th>\n      <th></th>\n      <th></th>\n      <th></th>\n      <th></th>\n      <th></th>\n    </tr>\n  </thead>\n  <tbody>\n    <tr>\n      <th>BRD-A00100033</th>\n      <td>nifurtimox</td>\n      <td>trt_cp</td>\n      <td>1</td>\n      <td>ARFHIAQFJWUCFH</td>\n      <td>ARFHIAQFJWUCFH-UHFFFAOYSA-N</td>\n      <td>CC1CS(=O)(=O)CCN1N=Cc1ccc(o1)[N+]([O-])=O</td>\n      <td>6842999</td>\n    </tr>\n    <tr>\n      <th>BRD-A00267231</th>\n      <td>hemado</td>\n      <td>trt_cp</td>\n      <td>1</td>\n      <td>KOCIMZNSNPOGOP</td>\n      <td>KOCIMZNSNPOGOP-UHFFFAOYSA-N</td>\n      <td>CCCCC#Cc1nc(NC)c2ncn(C3OC(CO)C(O)C3O)c2n1</td>\n      <td>4043357</td>\n    </tr>\n    <tr>\n      <th>BRD-A00520476</th>\n      <td>AF-DX-116</td>\n      <td>trt_cp</td>\n      <td>1</td>\n      <td>UBRKDAVQCKZSPO</td>\n      <td>UBRKDAVQCKZSPO-UHFFFAOYSA-N</td>\n      <td>CCN(CC)CC1CCCCN1CC(=O)N1c2ccccc2C(=O)Nc2cccnc12</td>\n      <td>107867</td>\n    </tr>\n    <tr>\n      <th>BRD-A00758722</th>\n      <td>noretynodrel</td>\n      <td>trt_cp</td>\n      <td>1</td>\n      <td>ICTXHFFSOAJUMG</td>\n      <td>ICTXHFFSOAJUMG-OQPPHWFISA-N</td>\n      <td>C[C@]12CCC3C(CCC4=C3CCC(=O)C4)C1CC[C@@]2(O)C#C</td>\n      <td>5702095</td>\n    </tr>\n    <tr>\n      <th>BRD-A00993607</th>\n      <td>alprenolol</td>\n      <td>trt_cp</td>\n      <td>1</td>\n      <td>PAZJSJFMUHDSTF</td>\n      <td>PAZJSJFMUHDSTF-UHFFFAOYSA-N</td>\n      <td>CC(C)NCC(O)COc1ccccc1CC=C</td>\n      <td>-666</td>\n    </tr>\n    <tr>\n      <th>...</th>\n      <td>...</td>\n      <td>...</td>\n      <td>...</td>\n      <td>...</td>\n      <td>...</td>\n      <td>...</td>\n      <td>...</td>\n    </tr>\n    <tr>\n      <th>BRD-U82589721</th>\n      <td>HG-5-113-01</td>\n      <td>trt_cp</td>\n      <td>1</td>\n      <td>restricted</td>\n      <td>restricted</td>\n      <td>restricted</td>\n      <td>-666</td>\n    </tr>\n    <tr>\n      <th>BRD-U86922168</th>\n      <td>QL-XII-47</td>\n      <td>trt_cp</td>\n      <td>1</td>\n      <td>restricted</td>\n      <td>restricted</td>\n      <td>restricted</td>\n      <td>-666</td>\n    </tr>\n    <tr>\n      <th>BRD-U88459701</th>\n      <td>atorvastatin</td>\n      <td>trt_cp</td>\n      <td>1</td>\n      <td>XUKUURHRXDUEBC</td>\n      <td>XUKUURHRXDUEBC-UHFFFAOYSA-N</td>\n      <td>CC(C)c1c(C(=O)Nc2ccccc2)c(c(-c2ccc(F)cc2)n1CCC...</td>\n      <td>-666</td>\n    </tr>\n    <tr>\n      <th>BRD-U94846492</th>\n      <td>quinine</td>\n      <td>trt_cp</td>\n      <td>1</td>\n      <td>LOUPRKONTZGTKE</td>\n      <td>LOUPRKONTZGTKE-AFHBHXEDSA-N</td>\n      <td>COc1ccc2nccc([C@@H](O)[C@H]3C[C@@H]4CC[N@]3C[C...</td>\n      <td>-666</td>\n    </tr>\n    <tr>\n      <th>BRD-U97083655</th>\n      <td>teicoplanin</td>\n      <td>trt_cp</td>\n      <td>1</td>\n      <td>restricted</td>\n      <td>restricted</td>\n      <td>restricted</td>\n      <td>-666</td>\n    </tr>\n  </tbody>\n</table>\n<p>2429 rows × 7 columns</p>\n</div>"
     },
     "metadata": {},
     "output_type": "execute_result",
     "execution_count": 27
    }
   ],
   "source": [
    "DATA_PATH = \"../../../../ReSimNet_dataset.csv\"\n",
    "DATA_INFO = \"../../../../GSE92742_Broad_LINCS_pert_info.txt\"\n",
    "TWOSIDES_DATA_BASEPATH = \"~/.invivo/cache/datasets-ressources/DDI/twosides/\"\n",
    "data_info = pd.read_csv(DATA_INFO, sep='\\t')\n",
    "is_BRD = ['BRD-' in elem for elem in data_info['pert_id'].values]\n",
    "data_info_mols = data_info[is_BRD]\n",
    "data_info_mols = data_info_mols.set_index('pert_id')\n",
    "data_info_mols = data_info_mols[data_info_mols[\"is_touchstone\"] == 1]\n",
    "data_info_mols"
   ],
   "metadata": {
    "collapsed": false,
    "pycharm": {
     "name": "#%%\n",
     "is_executing": false
    }
   }
  },
  {
   "cell_type": "code",
   "execution_count": 35,
   "outputs": [
    {
     "name": "stdout",
     "text": [
      "               Drug 1         Drug 2     score\n0       BRD-K03109492  BRD-K74402642  97.83300\n1       BRD-K41170226  BRD-K78485176  91.90225\n2       BRD-K28137194  BRD-K57304726  -4.33920\n3       BRD-A80793822  BRD-K06878038  99.56570\n4       BRD-K11801786  BRD-M41783010  94.06185\n...               ...            ...       ...\n269537  BRD-A36066264  BRD-K62609077  53.31805\n269538  BRD-A96456596  BRD-K79602928  66.74815\n269539  BRD-A36066264  BRD-K39987650  91.59835\n269540  BRD-A81177136  BRD-K21806131  91.88280\n269541  BRD-K44084986  BRD-K51318897  26.41885\n\n[269542 rows x 3 columns]\n2428\n"
     ],
     "output_type": "stream"
    },
    {
     "data": {
      "text/plain": "(2428, 7)"
     },
     "metadata": {},
     "output_type": "execute_result",
     "execution_count": 35
    }
   ],
   "source": [
    "L1000_pairs = pd.read_csv(DATA_PATH, sep=\",\")\n",
    "L1000_drugs = set(L1000_pairs[\"Drug 1\"].values.tolist() + L1000_pairs[\"Drug 2\"].values.tolist())\n",
    "print(L1000_pairs)\n",
    "print(len(L1000_drugs))\n",
    "data_info_mols.loc[list(L1000_drugs)].shape"
   ],
   "metadata": {
    "collapsed": false,
    "pycharm": {
     "name": "#%%\n",
     "is_executing": false
    }
   }
  },
  {
   "cell_type": "code",
   "execution_count": 43,
   "outputs": [
    {
     "data": {
      "text/plain": "                 pert_iname pert_type  is_touchstone inchi_key_prefix  \\\npert_id                                                                 \nBRD-A01320529    salmeterol    trt_cp              1   GIIZNNXWQWCKIB   \nBRD-A02759312     betaxolol    trt_cp              1   NWIUTZDMDHAVTP   \nBRD-A03623303    metoprolol    trt_cp              1   IUBSYMUCCVWXPE   \nBRD-A05186015     bupropion    trt_cp              1   SNPPWIUOZRMYNY   \nBRD-A07440155     labetalol    trt_cp              1   SGUAFYQXFOLMHL   \n...                     ...       ...            ...              ...   \nBRD-M30523314   vinorelbine    trt_cp              1   YNSJJMODRKJNIH   \nBRD-M40783228         mesna    trt_cp              1   PYTISYCTLQTCTM   \nBRD-M41783010   acamprosate    trt_cp              1   NMFXTJQQOGRKAJ   \nBRD-M45964048   verteporfin    trt_cp              1   VHZWQXRTSHKRHE   \nBRD-U88459701  atorvastatin    trt_cp              1   XUKUURHRXDUEBC   \n\n                                 inchi_key  \\\npert_id                                      \nBRD-A01320529  GIIZNNXWQWCKIB-UHFFFAOYSA-N   \nBRD-A02759312  NWIUTZDMDHAVTP-UHFFFAOYSA-N   \nBRD-A03623303  IUBSYMUCCVWXPE-UHFFFAOYSA-N   \nBRD-A05186015  SNPPWIUOZRMYNY-UHFFFAOYSA-N   \nBRD-A07440155  SGUAFYQXFOLMHL-UHFFFAOYSA-N   \n...                                    ...   \nBRD-M30523314  GBABOYUKABKIAF-JEEMQKELSA-N   \nBRD-M40783228  ZNEWHQLOPFWXOF-UHFFFAOYSA-N   \nBRD-M41783010  AFCGFAGUEYAMAO-UHFFFAOYSA-N   \nBRD-M45964048  YTZALCGQUPRCGW-VKZOZCAPSA-N   \nBRD-U88459701  XUKUURHRXDUEBC-UHFFFAOYSA-N   \n\n                                                canonical_smiles pubchem_cid  \npert_id                                                                       \nBRD-A01320529             OCc1cc(ccc1O)C(O)CNCCCCCCOCCCCc1ccccc1        5152  \nBRD-A02759312                   CC(C)NCC(O)COc1ccc(CCOCC2CC2)cc1        -666  \nBRD-A03623303                        COCCc1ccc(OCC(O)CNC(C)C)cc1     5702086  \nBRD-A05186015                     CC(NC(C)(C)C)C(=O)c1cccc(Cl)c1        -666  \nBRD-A07440155            CC(CCc1ccccc1)NCC(O)c1ccc(O)c(c1)C(N)=O        -666  \n...                                                          ...         ...  \nBRD-M30523314  CCC1=C[C@@H]2C[N@](C1)Cc1c([nH]c3ccccc13)[C@@]...    73707424  \nBRD-M40783228                                      OS(=O)(=O)CCS    23662354  \nBRD-M41783010                               CC(=O)NCCCS(O)(=O)=O    73707392  \nBRD-M45964048  COC(=O)CCc1c(C)c2cc3nc(cc4[nH]c(cc5nc(cc1[nH]2...        -666  \nBRD-U88459701  CC(C)c1c(C(=O)Nc2ccccc2)c(c(-c2ccc(F)cc2)n1CCC...        -666  \n\n[379 rows x 7 columns]",
      "text/html": "<div>\n<style scoped>\n    .dataframe tbody tr th:only-of-type {\n        vertical-align: middle;\n    }\n\n    .dataframe tbody tr th {\n        vertical-align: top;\n    }\n\n    .dataframe thead th {\n        text-align: right;\n    }\n</style>\n<table border=\"1\" class=\"dataframe\">\n  <thead>\n    <tr style=\"text-align: right;\">\n      <th></th>\n      <th>pert_iname</th>\n      <th>pert_type</th>\n      <th>is_touchstone</th>\n      <th>inchi_key_prefix</th>\n      <th>inchi_key</th>\n      <th>canonical_smiles</th>\n      <th>pubchem_cid</th>\n    </tr>\n    <tr>\n      <th>pert_id</th>\n      <th></th>\n      <th></th>\n      <th></th>\n      <th></th>\n      <th></th>\n      <th></th>\n      <th></th>\n    </tr>\n  </thead>\n  <tbody>\n    <tr>\n      <th>BRD-A01320529</th>\n      <td>salmeterol</td>\n      <td>trt_cp</td>\n      <td>1</td>\n      <td>GIIZNNXWQWCKIB</td>\n      <td>GIIZNNXWQWCKIB-UHFFFAOYSA-N</td>\n      <td>OCc1cc(ccc1O)C(O)CNCCCCCCOCCCCc1ccccc1</td>\n      <td>5152</td>\n    </tr>\n    <tr>\n      <th>BRD-A02759312</th>\n      <td>betaxolol</td>\n      <td>trt_cp</td>\n      <td>1</td>\n      <td>NWIUTZDMDHAVTP</td>\n      <td>NWIUTZDMDHAVTP-UHFFFAOYSA-N</td>\n      <td>CC(C)NCC(O)COc1ccc(CCOCC2CC2)cc1</td>\n      <td>-666</td>\n    </tr>\n    <tr>\n      <th>BRD-A03623303</th>\n      <td>metoprolol</td>\n      <td>trt_cp</td>\n      <td>1</td>\n      <td>IUBSYMUCCVWXPE</td>\n      <td>IUBSYMUCCVWXPE-UHFFFAOYSA-N</td>\n      <td>COCCc1ccc(OCC(O)CNC(C)C)cc1</td>\n      <td>5702086</td>\n    </tr>\n    <tr>\n      <th>BRD-A05186015</th>\n      <td>bupropion</td>\n      <td>trt_cp</td>\n      <td>1</td>\n      <td>SNPPWIUOZRMYNY</td>\n      <td>SNPPWIUOZRMYNY-UHFFFAOYSA-N</td>\n      <td>CC(NC(C)(C)C)C(=O)c1cccc(Cl)c1</td>\n      <td>-666</td>\n    </tr>\n    <tr>\n      <th>BRD-A07440155</th>\n      <td>labetalol</td>\n      <td>trt_cp</td>\n      <td>1</td>\n      <td>SGUAFYQXFOLMHL</td>\n      <td>SGUAFYQXFOLMHL-UHFFFAOYSA-N</td>\n      <td>CC(CCc1ccccc1)NCC(O)c1ccc(O)c(c1)C(N)=O</td>\n      <td>-666</td>\n    </tr>\n    <tr>\n      <th>...</th>\n      <td>...</td>\n      <td>...</td>\n      <td>...</td>\n      <td>...</td>\n      <td>...</td>\n      <td>...</td>\n      <td>...</td>\n    </tr>\n    <tr>\n      <th>BRD-M30523314</th>\n      <td>vinorelbine</td>\n      <td>trt_cp</td>\n      <td>1</td>\n      <td>YNSJJMODRKJNIH</td>\n      <td>GBABOYUKABKIAF-JEEMQKELSA-N</td>\n      <td>CCC1=C[C@@H]2C[N@](C1)Cc1c([nH]c3ccccc13)[C@@]...</td>\n      <td>73707424</td>\n    </tr>\n    <tr>\n      <th>BRD-M40783228</th>\n      <td>mesna</td>\n      <td>trt_cp</td>\n      <td>1</td>\n      <td>PYTISYCTLQTCTM</td>\n      <td>ZNEWHQLOPFWXOF-UHFFFAOYSA-N</td>\n      <td>OS(=O)(=O)CCS</td>\n      <td>23662354</td>\n    </tr>\n    <tr>\n      <th>BRD-M41783010</th>\n      <td>acamprosate</td>\n      <td>trt_cp</td>\n      <td>1</td>\n      <td>NMFXTJQQOGRKAJ</td>\n      <td>AFCGFAGUEYAMAO-UHFFFAOYSA-N</td>\n      <td>CC(=O)NCCCS(O)(=O)=O</td>\n      <td>73707392</td>\n    </tr>\n    <tr>\n      <th>BRD-M45964048</th>\n      <td>verteporfin</td>\n      <td>trt_cp</td>\n      <td>1</td>\n      <td>VHZWQXRTSHKRHE</td>\n      <td>YTZALCGQUPRCGW-VKZOZCAPSA-N</td>\n      <td>COC(=O)CCc1c(C)c2cc3nc(cc4[nH]c(cc5nc(cc1[nH]2...</td>\n      <td>-666</td>\n    </tr>\n    <tr>\n      <th>BRD-U88459701</th>\n      <td>atorvastatin</td>\n      <td>trt_cp</td>\n      <td>1</td>\n      <td>XUKUURHRXDUEBC</td>\n      <td>XUKUURHRXDUEBC-UHFFFAOYSA-N</td>\n      <td>CC(C)c1c(C(=O)Nc2ccccc2)c(c(-c2ccc(F)cc2)n1CCC...</td>\n      <td>-666</td>\n    </tr>\n  </tbody>\n</table>\n<p>379 rows × 7 columns</p>\n</div>"
     },
     "metadata": {},
     "output_type": "execute_result",
     "execution_count": 43
    }
   ],
   "source": [
    "twosides_drugs = pd.read_csv(TWOSIDES_DATA_BASEPATH + \"/twosides-drugs-all.csv\" )\n",
    "twosides_pairs = pd.read_csv(TWOSIDES_DATA_BASEPATH + \"/twosides.csv\")\n",
    "data_info_mols[\"pert_iname\"] = data_info_mols[\"pert_iname\"].str.lower()\n",
    "data_info_mols[data_info_mols[\"pert_iname\"].isin(twosides_drugs[\"drug_name\"].values.tolist())]"
   ],
   "metadata": {
    "collapsed": false,
    "pycharm": {
     "name": "#%%\n",
     "is_executing": false
    }
   }
  },
  {
   "cell_type": "code",
   "execution_count": 59,
   "outputs": [],
   "source": [
    "L1000_drugs_dict = dict(zip(data_info_mols.index.values, data_info_mols[\"pert_iname\"]))\n",
    "L1000_pairs = L1000_pairs.replace({\"Drug 1\": L1000_drugs_dict , \"Drug 2\": L1000_drugs_dict})\n",
    "L1000_pairs_list =  list(zip(L1000_pairs[\"Drug 1\"], L1000_pairs[\"Drug 2\"]))\n",
    "twosides_drugs_dict = dict(zip(twosides_drugs[\"drug_id\"], twosides_drugs[\"drug_name\"]))\n",
    "twos_pairs = twosides_pairs.replace({\"Drug 1\": twosides_drugs_dict, \"Drug 2\": twosides_drugs_dict})\n",
    "overlap = set(list(zip(twos_pairs[\"Drug 1\"], twos_pairs[\"Drug 2\"])) + list(zip(twos_pairs[\"Drug 2\"], twos_pairs[\"Drug 1\"]))).intersection(set(L1000_pairs_list))"
   ],
   "metadata": {
    "collapsed": false,
    "pycharm": {
     "name": "#%%\n",
     "is_executing": false
    }
   }
  },
  {
   "cell_type": "code",
   "execution_count": 60,
   "outputs": [
    {
     "data": {
      "text/plain": "2977"
     },
     "metadata": {},
     "output_type": "execute_result",
     "execution_count": 60
    }
   ],
   "source": [
    "len(overlap)"
   ],
   "metadata": {
    "collapsed": false,
    "pycharm": {
     "name": "#%%\n",
     "is_executing": false
    }
   }
  },
  {
   "cell_type": "code",
   "execution_count": 63,
   "outputs": [],
   "source": [
    "data_info_mols.reset_index()\n",
    "data_info_mols.to_csv(\"../../../../ReSimNet_drugs-all.csv\")\n",
    "\n"
   ],
   "metadata": {
    "collapsed": false,
    "pycharm": {
     "name": "#%%\n",
     "is_executing": false
    }
   }
  }
 ],
 "metadata": {
  "kernelspec": {
   "display_name": "Python 3",
   "language": "python",
   "name": "python3"
  },
  "language_info": {
   "codemirror_mode": {
    "name": "ipython",
    "version": 3
   },
   "file_extension": ".py",
   "mimetype": "text/x-python",
   "name": "python",
   "nbconvert_exporter": "python",
   "pygments_lexer": "ipython3",
   "version": "3.7.4"
  },
  "pycharm": {
   "stem_cell": {
    "cell_type": "raw",
    "source": [],
    "metadata": {
     "collapsed": false
    }
   }
  }
 },
 "nbformat": 4,
 "nbformat_minor": 2
}